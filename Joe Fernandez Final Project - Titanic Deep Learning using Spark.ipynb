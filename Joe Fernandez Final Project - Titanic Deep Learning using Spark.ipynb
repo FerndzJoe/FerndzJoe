{
 "cells": [
  {
   "cell_type": "markdown",
   "id": "bff321d9",
   "metadata": {},
   "source": [
    "## Student: Joe Fernandez\n",
    "## Course: COMPSCIX459.5-009\n",
    "## Project: Classification Project [Final Exam]\n",
    "> Project Topic: RMS Titanic : Develop a predictive model to answer\n",
    ">\n",
    "> *\"what sorts of people were more likely to survive?\"*\n",
    "\n",
    "## We will explore this using cross-validaton models on the following:\n",
    "\n",
    "> <font size='4'>**Naive Bayes Analysis**</font>\n",
    ">\n",
    "> <font size='4'>**Logistic Regression**</font>\n",
    ">\n",
    "> <font size='4'>**Linear Support Vector Machine**</font>\n",
    ">\n",
    "> <font size='4'>**Random Forest**</font>\n",
    ">\n",
    "> <font size='4'>**Gradient Boosted Tree**</font>"
   ]
  },
  {
   "cell_type": "code",
   "execution_count": 1,
   "id": "e270c409",
   "metadata": {},
   "outputs": [
    {
     "name": "stdout",
     "output_type": "stream",
     "text": [
      "23/05/28 19:16:30 WARN Utils: Your hostname, Josephs-MacBook-Pro.local resolves to a loopback address: 127.0.0.1; using 10.0.0.120 instead (on interface en0)\n",
      "23/05/28 19:16:30 WARN Utils: Set SPARK_LOCAL_IP if you need to bind to another address\n"
     ]
    },
    {
     "name": "stderr",
     "output_type": "stream",
     "text": [
      "Setting default log level to \"WARN\".\n",
      "To adjust logging level use sc.setLogLevel(newLevel). For SparkR, use setLogLevel(newLevel).\n"
     ]
    },
    {
     "name": "stdout",
     "output_type": "stream",
     "text": [
      "23/05/28 19:16:31 WARN NativeCodeLoader: Unable to load native-hadoop library for your platform... using builtin-java classes where applicable\n"
     ]
    }
   ],
   "source": [
    "import pyspark\n",
    "from pyspark.ml.feature import PCA, VectorAssembler\n",
    "from pyspark.mllib.linalg import Vectors\n",
    "from pyspark.ml import Pipeline\n",
    "from pyspark.ml.feature import StandardScaler\n",
    "import numpy as np\n",
    "import matplotlib.pyplot as plt\n",
    "from pyspark.sql import SparkSession\n",
    "from pyspark.sql.types import StringType\n",
    "\n",
    "spark = SparkSession \\\n",
    "    .builder \\\n",
    "    .appName(\"Python Spark Final Project - Joe Fernandez\") \\\n",
    "    .config(\"spark.some.config.option\", \"some-value\") \\\n",
    "    .getOrCreate()"
   ]
  },
  {
   "cell_type": "markdown",
   "id": "52d7c73a",
   "metadata": {},
   "source": [
    "### Read the Titanic training data from `train.csv`"
   ]
  },
  {
   "cell_type": "code",
   "execution_count": 2,
   "id": "7d89810e",
   "metadata": {},
   "outputs": [],
   "source": [
    "titanic_train =  spark.read.format('csv')\\\n",
    "                       .options(header='true', \\\n",
    "                       inferschema='true')\\\n",
    "            .load(\"train.csv\",header=True);"
   ]
  },
  {
   "cell_type": "markdown",
   "id": "fd9dddb7",
   "metadata": {},
   "source": [
    "### Converting Passenger Id column to a String Type using cast"
   ]
  },
  {
   "cell_type": "code",
   "execution_count": 3,
   "id": "9569e362",
   "metadata": {},
   "outputs": [],
   "source": [
    "titanic_train = titanic_train.withColumn(\"PassengerId\", titanic_train[\"PassengerId\"]\n",
    "                             .cast(StringType()))"
   ]
  },
  {
   "cell_type": "code",
   "execution_count": 4,
   "id": "d1bcfa94",
   "metadata": {},
   "outputs": [
    {
     "name": "stderr",
     "output_type": "stream",
     "text": [
      "                                                                                \r"
     ]
    },
    {
     "data": {
      "text/html": [
       "<div>\n",
       "<style scoped>\n",
       "    .dataframe tbody tr th:only-of-type {\n",
       "        vertical-align: middle;\n",
       "    }\n",
       "\n",
       "    .dataframe tbody tr th {\n",
       "        vertical-align: top;\n",
       "    }\n",
       "\n",
       "    .dataframe thead th {\n",
       "        text-align: right;\n",
       "    }\n",
       "</style>\n",
       "<table border=\"1\" class=\"dataframe\">\n",
       "  <thead>\n",
       "    <tr style=\"text-align: right;\">\n",
       "      <th></th>\n",
       "      <th>0</th>\n",
       "      <th>1</th>\n",
       "      <th>2</th>\n",
       "      <th>3</th>\n",
       "      <th>4</th>\n",
       "    </tr>\n",
       "  </thead>\n",
       "  <tbody>\n",
       "    <tr>\n",
       "      <th>summary</th>\n",
       "      <td>count</td>\n",
       "      <td>mean</td>\n",
       "      <td>stddev</td>\n",
       "      <td>min</td>\n",
       "      <td>max</td>\n",
       "    </tr>\n",
       "    <tr>\n",
       "      <th>PassengerId</th>\n",
       "      <td>891</td>\n",
       "      <td>446.0</td>\n",
       "      <td>257.3538420152301</td>\n",
       "      <td>1</td>\n",
       "      <td>99</td>\n",
       "    </tr>\n",
       "    <tr>\n",
       "      <th>Survived</th>\n",
       "      <td>891</td>\n",
       "      <td>0.3838383838383838</td>\n",
       "      <td>0.48659245426485753</td>\n",
       "      <td>0</td>\n",
       "      <td>1</td>\n",
       "    </tr>\n",
       "    <tr>\n",
       "      <th>Pclass</th>\n",
       "      <td>891</td>\n",
       "      <td>2.308641975308642</td>\n",
       "      <td>0.8360712409770491</td>\n",
       "      <td>1</td>\n",
       "      <td>3</td>\n",
       "    </tr>\n",
       "    <tr>\n",
       "      <th>Name</th>\n",
       "      <td>891</td>\n",
       "      <td>None</td>\n",
       "      <td>None</td>\n",
       "      <td>\"Andersson, Mr. August Edvard (\"\"Wennerstrom\"\")\"</td>\n",
       "      <td>van Melkebeke, Mr. Philemon</td>\n",
       "    </tr>\n",
       "    <tr>\n",
       "      <th>Sex</th>\n",
       "      <td>891</td>\n",
       "      <td>None</td>\n",
       "      <td>None</td>\n",
       "      <td>female</td>\n",
       "      <td>male</td>\n",
       "    </tr>\n",
       "    <tr>\n",
       "      <th>Age</th>\n",
       "      <td>714</td>\n",
       "      <td>29.69911764705882</td>\n",
       "      <td>14.526497332334035</td>\n",
       "      <td>0.42</td>\n",
       "      <td>80.0</td>\n",
       "    </tr>\n",
       "    <tr>\n",
       "      <th>SibSp</th>\n",
       "      <td>891</td>\n",
       "      <td>0.5230078563411896</td>\n",
       "      <td>1.1027434322934315</td>\n",
       "      <td>0</td>\n",
       "      <td>8</td>\n",
       "    </tr>\n",
       "    <tr>\n",
       "      <th>Parch</th>\n",
       "      <td>891</td>\n",
       "      <td>0.38159371492704824</td>\n",
       "      <td>0.8060572211299488</td>\n",
       "      <td>0</td>\n",
       "      <td>6</td>\n",
       "    </tr>\n",
       "    <tr>\n",
       "      <th>Ticket</th>\n",
       "      <td>891</td>\n",
       "      <td>260318.54916792738</td>\n",
       "      <td>471609.26868834975</td>\n",
       "      <td>110152</td>\n",
       "      <td>WE/P 5735</td>\n",
       "    </tr>\n",
       "    <tr>\n",
       "      <th>Fare</th>\n",
       "      <td>891</td>\n",
       "      <td>32.2042079685746</td>\n",
       "      <td>49.69342859718089</td>\n",
       "      <td>0.0</td>\n",
       "      <td>512.3292</td>\n",
       "    </tr>\n",
       "    <tr>\n",
       "      <th>Cabin</th>\n",
       "      <td>204</td>\n",
       "      <td>None</td>\n",
       "      <td>None</td>\n",
       "      <td>A10</td>\n",
       "      <td>T</td>\n",
       "    </tr>\n",
       "    <tr>\n",
       "      <th>Embarked</th>\n",
       "      <td>889</td>\n",
       "      <td>None</td>\n",
       "      <td>None</td>\n",
       "      <td>C</td>\n",
       "      <td>S</td>\n",
       "    </tr>\n",
       "  </tbody>\n",
       "</table>\n",
       "</div>"
      ],
      "text/plain": [
       "                 0                    1                    2  \\\n",
       "summary      count                 mean               stddev   \n",
       "PassengerId    891                446.0    257.3538420152301   \n",
       "Survived       891   0.3838383838383838  0.48659245426485753   \n",
       "Pclass         891    2.308641975308642   0.8360712409770491   \n",
       "Name           891                 None                 None   \n",
       "Sex            891                 None                 None   \n",
       "Age            714    29.69911764705882   14.526497332334035   \n",
       "SibSp          891   0.5230078563411896   1.1027434322934315   \n",
       "Parch          891  0.38159371492704824   0.8060572211299488   \n",
       "Ticket         891   260318.54916792738   471609.26868834975   \n",
       "Fare           891     32.2042079685746    49.69342859718089   \n",
       "Cabin          204                 None                 None   \n",
       "Embarked       889                 None                 None   \n",
       "\n",
       "                                                            3  \\\n",
       "summary                                                   min   \n",
       "PassengerId                                                 1   \n",
       "Survived                                                    0   \n",
       "Pclass                                                      1   \n",
       "Name         \"Andersson, Mr. August Edvard (\"\"Wennerstrom\"\")\"   \n",
       "Sex                                                    female   \n",
       "Age                                                      0.42   \n",
       "SibSp                                                       0   \n",
       "Parch                                                       0   \n",
       "Ticket                                                 110152   \n",
       "Fare                                                      0.0   \n",
       "Cabin                                                     A10   \n",
       "Embarked                                                    C   \n",
       "\n",
       "                                       4  \n",
       "summary                              max  \n",
       "PassengerId                           99  \n",
       "Survived                               1  \n",
       "Pclass                                 3  \n",
       "Name         van Melkebeke, Mr. Philemon  \n",
       "Sex                                 male  \n",
       "Age                                 80.0  \n",
       "SibSp                                  8  \n",
       "Parch                                  6  \n",
       "Ticket                         WE/P 5735  \n",
       "Fare                            512.3292  \n",
       "Cabin                                  T  \n",
       "Embarked                               S  "
      ]
     },
     "execution_count": 4,
     "metadata": {},
     "output_type": "execute_result"
    }
   ],
   "source": [
    "titanic_train.describe().toPandas().T"
   ]
  },
  {
   "cell_type": "markdown",
   "id": "e6faa7a0",
   "metadata": {},
   "source": [
    "### Display the first 5 rows of the Spark DataFrame"
   ]
  },
  {
   "cell_type": "code",
   "execution_count": 5,
   "id": "4eadf515",
   "metadata": {},
   "outputs": [
    {
     "data": {
      "text/html": [
       "<div>\n",
       "<style scoped>\n",
       "    .dataframe tbody tr th:only-of-type {\n",
       "        vertical-align: middle;\n",
       "    }\n",
       "\n",
       "    .dataframe tbody tr th {\n",
       "        vertical-align: top;\n",
       "    }\n",
       "\n",
       "    .dataframe thead th {\n",
       "        text-align: right;\n",
       "    }\n",
       "</style>\n",
       "<table border=\"1\" class=\"dataframe\">\n",
       "  <thead>\n",
       "    <tr style=\"text-align: right;\">\n",
       "      <th></th>\n",
       "      <th>PassengerId</th>\n",
       "      <th>Survived</th>\n",
       "      <th>Pclass</th>\n",
       "      <th>Name</th>\n",
       "      <th>Sex</th>\n",
       "      <th>Age</th>\n",
       "      <th>SibSp</th>\n",
       "      <th>Parch</th>\n",
       "      <th>Ticket</th>\n",
       "      <th>Fare</th>\n",
       "      <th>Cabin</th>\n",
       "      <th>Embarked</th>\n",
       "    </tr>\n",
       "  </thead>\n",
       "  <tbody>\n",
       "    <tr>\n",
       "      <th>0</th>\n",
       "      <td>1</td>\n",
       "      <td>0</td>\n",
       "      <td>3</td>\n",
       "      <td>Braund, Mr. Owen Harris</td>\n",
       "      <td>male</td>\n",
       "      <td>22.0</td>\n",
       "      <td>1</td>\n",
       "      <td>0</td>\n",
       "      <td>A/5 21171</td>\n",
       "      <td>7.2500</td>\n",
       "      <td>None</td>\n",
       "      <td>S</td>\n",
       "    </tr>\n",
       "    <tr>\n",
       "      <th>1</th>\n",
       "      <td>2</td>\n",
       "      <td>1</td>\n",
       "      <td>1</td>\n",
       "      <td>Cumings, Mrs. John Bradley (Florence Briggs Th...</td>\n",
       "      <td>female</td>\n",
       "      <td>38.0</td>\n",
       "      <td>1</td>\n",
       "      <td>0</td>\n",
       "      <td>PC 17599</td>\n",
       "      <td>71.2833</td>\n",
       "      <td>C85</td>\n",
       "      <td>C</td>\n",
       "    </tr>\n",
       "    <tr>\n",
       "      <th>2</th>\n",
       "      <td>3</td>\n",
       "      <td>1</td>\n",
       "      <td>3</td>\n",
       "      <td>Heikkinen, Miss. Laina</td>\n",
       "      <td>female</td>\n",
       "      <td>26.0</td>\n",
       "      <td>0</td>\n",
       "      <td>0</td>\n",
       "      <td>STON/O2. 3101282</td>\n",
       "      <td>7.9250</td>\n",
       "      <td>None</td>\n",
       "      <td>S</td>\n",
       "    </tr>\n",
       "    <tr>\n",
       "      <th>3</th>\n",
       "      <td>4</td>\n",
       "      <td>1</td>\n",
       "      <td>1</td>\n",
       "      <td>Futrelle, Mrs. Jacques Heath (Lily May Peel)</td>\n",
       "      <td>female</td>\n",
       "      <td>35.0</td>\n",
       "      <td>1</td>\n",
       "      <td>0</td>\n",
       "      <td>113803</td>\n",
       "      <td>53.1000</td>\n",
       "      <td>C123</td>\n",
       "      <td>S</td>\n",
       "    </tr>\n",
       "    <tr>\n",
       "      <th>4</th>\n",
       "      <td>5</td>\n",
       "      <td>0</td>\n",
       "      <td>3</td>\n",
       "      <td>Allen, Mr. William Henry</td>\n",
       "      <td>male</td>\n",
       "      <td>35.0</td>\n",
       "      <td>0</td>\n",
       "      <td>0</td>\n",
       "      <td>373450</td>\n",
       "      <td>8.0500</td>\n",
       "      <td>None</td>\n",
       "      <td>S</td>\n",
       "    </tr>\n",
       "    <tr>\n",
       "      <th>5</th>\n",
       "      <td>6</td>\n",
       "      <td>0</td>\n",
       "      <td>3</td>\n",
       "      <td>Moran, Mr. James</td>\n",
       "      <td>male</td>\n",
       "      <td>NaN</td>\n",
       "      <td>0</td>\n",
       "      <td>0</td>\n",
       "      <td>330877</td>\n",
       "      <td>8.4583</td>\n",
       "      <td>None</td>\n",
       "      <td>Q</td>\n",
       "    </tr>\n",
       "    <tr>\n",
       "      <th>6</th>\n",
       "      <td>7</td>\n",
       "      <td>0</td>\n",
       "      <td>1</td>\n",
       "      <td>McCarthy, Mr. Timothy J</td>\n",
       "      <td>male</td>\n",
       "      <td>54.0</td>\n",
       "      <td>0</td>\n",
       "      <td>0</td>\n",
       "      <td>17463</td>\n",
       "      <td>51.8625</td>\n",
       "      <td>E46</td>\n",
       "      <td>S</td>\n",
       "    </tr>\n",
       "    <tr>\n",
       "      <th>7</th>\n",
       "      <td>8</td>\n",
       "      <td>0</td>\n",
       "      <td>3</td>\n",
       "      <td>Palsson, Master. Gosta Leonard</td>\n",
       "      <td>male</td>\n",
       "      <td>2.0</td>\n",
       "      <td>3</td>\n",
       "      <td>1</td>\n",
       "      <td>349909</td>\n",
       "      <td>21.0750</td>\n",
       "      <td>None</td>\n",
       "      <td>S</td>\n",
       "    </tr>\n",
       "    <tr>\n",
       "      <th>8</th>\n",
       "      <td>9</td>\n",
       "      <td>1</td>\n",
       "      <td>3</td>\n",
       "      <td>Johnson, Mrs. Oscar W (Elisabeth Vilhelmina Berg)</td>\n",
       "      <td>female</td>\n",
       "      <td>27.0</td>\n",
       "      <td>0</td>\n",
       "      <td>2</td>\n",
       "      <td>347742</td>\n",
       "      <td>11.1333</td>\n",
       "      <td>None</td>\n",
       "      <td>S</td>\n",
       "    </tr>\n",
       "    <tr>\n",
       "      <th>9</th>\n",
       "      <td>10</td>\n",
       "      <td>1</td>\n",
       "      <td>2</td>\n",
       "      <td>Nasser, Mrs. Nicholas (Adele Achem)</td>\n",
       "      <td>female</td>\n",
       "      <td>14.0</td>\n",
       "      <td>1</td>\n",
       "      <td>0</td>\n",
       "      <td>237736</td>\n",
       "      <td>30.0708</td>\n",
       "      <td>None</td>\n",
       "      <td>C</td>\n",
       "    </tr>\n",
       "  </tbody>\n",
       "</table>\n",
       "</div>"
      ],
      "text/plain": [
       "  PassengerId  Survived  Pclass  \\\n",
       "0           1         0       3   \n",
       "1           2         1       1   \n",
       "2           3         1       3   \n",
       "3           4         1       1   \n",
       "4           5         0       3   \n",
       "5           6         0       3   \n",
       "6           7         0       1   \n",
       "7           8         0       3   \n",
       "8           9         1       3   \n",
       "9          10         1       2   \n",
       "\n",
       "                                                Name     Sex   Age  SibSp  \\\n",
       "0                            Braund, Mr. Owen Harris    male  22.0      1   \n",
       "1  Cumings, Mrs. John Bradley (Florence Briggs Th...  female  38.0      1   \n",
       "2                             Heikkinen, Miss. Laina  female  26.0      0   \n",
       "3       Futrelle, Mrs. Jacques Heath (Lily May Peel)  female  35.0      1   \n",
       "4                           Allen, Mr. William Henry    male  35.0      0   \n",
       "5                                   Moran, Mr. James    male   NaN      0   \n",
       "6                            McCarthy, Mr. Timothy J    male  54.0      0   \n",
       "7                     Palsson, Master. Gosta Leonard    male   2.0      3   \n",
       "8  Johnson, Mrs. Oscar W (Elisabeth Vilhelmina Berg)  female  27.0      0   \n",
       "9                Nasser, Mrs. Nicholas (Adele Achem)  female  14.0      1   \n",
       "\n",
       "   Parch            Ticket     Fare Cabin Embarked  \n",
       "0      0         A/5 21171   7.2500  None        S  \n",
       "1      0          PC 17599  71.2833   C85        C  \n",
       "2      0  STON/O2. 3101282   7.9250  None        S  \n",
       "3      0            113803  53.1000  C123        S  \n",
       "4      0            373450   8.0500  None        S  \n",
       "5      0            330877   8.4583  None        Q  \n",
       "6      0             17463  51.8625   E46        S  \n",
       "7      1            349909  21.0750  None        S  \n",
       "8      2            347742  11.1333  None        S  \n",
       "9      0            237736  30.0708  None        C  "
      ]
     },
     "execution_count": 5,
     "metadata": {},
     "output_type": "execute_result"
    }
   ],
   "source": [
    "titanic_train.toPandas().head(10)"
   ]
  },
  {
   "cell_type": "code",
   "execution_count": 6,
   "id": "34e792b5",
   "metadata": {},
   "outputs": [
    {
     "name": "stdout",
     "output_type": "stream",
     "text": [
      "root\n",
      " |-- PassengerId: string (nullable = true)\n",
      " |-- Survived: integer (nullable = true)\n",
      " |-- Pclass: integer (nullable = true)\n",
      " |-- Name: string (nullable = true)\n",
      " |-- Sex: string (nullable = true)\n",
      " |-- Age: double (nullable = true)\n",
      " |-- SibSp: integer (nullable = true)\n",
      " |-- Parch: integer (nullable = true)\n",
      " |-- Ticket: string (nullable = true)\n",
      " |-- Fare: double (nullable = true)\n",
      " |-- Cabin: string (nullable = true)\n",
      " |-- Embarked: string (nullable = true)\n",
      "\n"
     ]
    }
   ],
   "source": [
    "titanic_train.printSchema()"
   ]
  },
  {
   "cell_type": "code",
   "execution_count": 7,
   "id": "270f8c11",
   "metadata": {},
   "outputs": [
    {
     "data": {
      "text/plain": [
       "['PassengerId',\n",
       " 'Survived',\n",
       " 'Pclass',\n",
       " 'Name',\n",
       " 'Sex',\n",
       " 'Age',\n",
       " 'SibSp',\n",
       " 'Parch',\n",
       " 'Ticket',\n",
       " 'Fare',\n",
       " 'Cabin',\n",
       " 'Embarked']"
      ]
     },
     "execution_count": 7,
     "metadata": {},
     "output_type": "execute_result"
    }
   ],
   "source": [
    "titanic_header = titanic_train.columns\n",
    "titanic_header"
   ]
  },
  {
   "cell_type": "code",
   "execution_count": 8,
   "id": "1d14b89f",
   "metadata": {},
   "outputs": [
    {
     "data": {
      "text/plain": [
       "12"
      ]
     },
     "execution_count": 8,
     "metadata": {},
     "output_type": "execute_result"
    }
   ],
   "source": [
    "# There are 12 columns that provide various information about the passengers\n",
    "total_cols = len(titanic_train.columns)\n",
    "total_cols"
   ]
  },
  {
   "cell_type": "code",
   "execution_count": 9,
   "id": "e750564a",
   "metadata": {},
   "outputs": [
    {
     "data": {
      "text/plain": [
       "891"
      ]
     },
     "execution_count": 9,
     "metadata": {},
     "output_type": "execute_result"
    }
   ],
   "source": [
    "# There are a total of 891 rows of data. Some of this data is missing information.\n",
    "# We will review them later and reduce the number of rows used for processing\n",
    "\n",
    "total_rows = titanic_train.count()\n",
    "total_rows"
   ]
  },
  {
   "cell_type": "markdown",
   "id": "ac8e1d39",
   "metadata": {},
   "source": [
    "### Let's find out how many null values are in each of the columns"
   ]
  },
  {
   "cell_type": "code",
   "execution_count": 10,
   "id": "33dd2459",
   "metadata": {},
   "outputs": [
    {
     "name": "stdout",
     "output_type": "stream",
     "text": [
      "The following columns have Null values\n",
      "Age has 177 nulls out of 891\n",
      "Cabin has 687 nulls out of 891\n",
      "Embarked has 2 nulls out of 891\n"
     ]
    }
   ],
   "source": [
    "print('The following columns have Null values')\n",
    "\n",
    "for colname in titanic_header:\n",
    "    if titanic_train.toPandas()[colname].isna().any():\n",
    "        colnulls = titanic_train.toPandas()[colname].isna().sum()\n",
    "        print('{} has {} nulls out of {}'.format(colname,colnulls,total_rows))\n"
   ]
  },
  {
   "cell_type": "markdown",
   "id": "424458d9",
   "metadata": {},
   "source": [
    "### Titanic Dataset : Columns and Definitions\n",
    "\n",
    "|Columns|Definition | Key\n",
    "|:-|:-|:-|\n",
    "|PassengerId|Passenger Id|\n",
    "|Survived|Survival|0 = No, 1 = Yes\n",
    "|pclass|Ticket class|1 = 1st, 2 = 2nd, 3 = 3rd\n",
    "|sex|Sex|\t\n",
    "|Age|Age in years|\n",
    "|sibsp|# of siblings / spouses aboard the Titanic\t\n",
    "|parch|# of parents / children aboard the Titanic\t\n",
    "|ticket|Ticket number\t\n",
    "|fare|Passenger fare\t\n",
    "|cabin|Cabin number\t\n",
    "|embarked|Port of Embarkation|C = Cherbourg, Q = Queenstown, S = Southampton"
   ]
  },
  {
   "cell_type": "markdown",
   "id": "9380b62b",
   "metadata": {},
   "source": [
    "#### Cabin Number: Let's explore this\n",
    "> Cabin Number is denoted as Xnnn where X is type of Cabin and nnn is the number \\\n",
    "> We can try and remove the number and focus only on the Cabin Type \\\n",
    "> See if this improves the prediction\n",
    ">\n",
    "> I tried this approach but the prediction accuracy reduced. It is better to have the whole Cabin Number \\\n",
    "> Instead of having just the Cabin Types\n",
    ">\n",
    "> Below is the code to extract only the Cabin Type and remove the Cabin column"
   ]
  },
  {
   "cell_type": "code",
   "execution_count": 11,
   "id": "602d5d34",
   "metadata": {},
   "outputs": [],
   "source": [
    "# I tried to explore if we can use only Cabin Type instead of Cabin column\n",
    "\n",
    "# To use only Cabin Type instead of the full Cabin column: We can split and take only the first char value\n",
    "# all valid cabins have Xnnn value where X is Cabin Type and nnn is the Cabin Number\n",
    "\n",
    "#from pyspark.sql.functions import split, element_at, regexp_extract\n",
    "\n",
    "#titanic_train = titanic_train.withColumn(\"CabinType\", regexp_extract(\"Cabin\", \"(\\D)\", 0)).drop(\"Cabin\")\n",
    "#titanic_train.toPandas().head()"
   ]
  },
  {
   "cell_type": "code",
   "execution_count": 12,
   "id": "b68e59fa",
   "metadata": {},
   "outputs": [
    {
     "data": {
      "text/plain": [
       "Row(PassengerId='1', Survived=0, Pclass=3, Name='Braund, Mr. Owen Harris', Sex='male', Age=22.0, SibSp=1, Parch=0, Ticket='A/5 21171', Fare=7.25, Cabin=None, Embarked='S')"
      ]
     },
     "execution_count": 12,
     "metadata": {},
     "output_type": "execute_result"
    }
   ],
   "source": [
    "titanic_train.first()"
   ]
  },
  {
   "cell_type": "markdown",
   "id": "298186fe",
   "metadata": {},
   "source": [
    "### Let's drop all the rows that have incomplete data \n",
    "### Dropping all NaN so we can work with only complete data"
   ]
  },
  {
   "cell_type": "code",
   "execution_count": 13,
   "id": "c0829317",
   "metadata": {},
   "outputs": [],
   "source": [
    "titanic_train = titanic_train.dropna()"
   ]
  },
  {
   "cell_type": "code",
   "execution_count": 14,
   "id": "9659a15d",
   "metadata": {},
   "outputs": [
    {
     "data": {
      "text/plain": [
       "183"
      ]
     },
     "execution_count": 14,
     "metadata": {},
     "output_type": "execute_result"
    }
   ],
   "source": [
    "titanic_train.count()"
   ]
  },
  {
   "cell_type": "markdown",
   "id": "59759b01",
   "metadata": {},
   "source": [
    "### Split the Columns to Categorical Columns, Numeric Columns, and Label Columns"
   ]
  },
  {
   "cell_type": "code",
   "execution_count": 15,
   "id": "66c6bbcb",
   "metadata": {},
   "outputs": [],
   "source": [
    "catcols=[]\n",
    "num_cols=[]\n",
    "labelCol = 'Survived'\n",
    "\n",
    "for i in titanic_train.dtypes:\n",
    "    if i[1] == 'string':\n",
    "        catcols.append(i[0])\n",
    "    elif i[0] != 'Survived':\n",
    "        num_cols.append(i[0])\n"
   ]
  },
  {
   "cell_type": "code",
   "execution_count": 16,
   "id": "c3c1f73b",
   "metadata": {},
   "outputs": [
    {
     "data": {
      "text/plain": [
       "['PassengerId', 'Name', 'Sex', 'Ticket', 'Cabin', 'Embarked']"
      ]
     },
     "execution_count": 16,
     "metadata": {},
     "output_type": "execute_result"
    }
   ],
   "source": [
    "catcols"
   ]
  },
  {
   "cell_type": "code",
   "execution_count": 17,
   "id": "6e0f584b",
   "metadata": {},
   "outputs": [
    {
     "data": {
      "text/plain": [
       "['Pclass', 'Age', 'SibSp', 'Parch', 'Fare']"
      ]
     },
     "execution_count": 17,
     "metadata": {},
     "output_type": "execute_result"
    }
   ],
   "source": [
    "num_cols"
   ]
  },
  {
   "cell_type": "code",
   "execution_count": 18,
   "id": "c90b2489",
   "metadata": {},
   "outputs": [
    {
     "data": {
      "text/plain": [
       "'Survived'"
      ]
     },
     "execution_count": 18,
     "metadata": {},
     "output_type": "execute_result"
    }
   ],
   "source": [
    "labelCol"
   ]
  },
  {
   "cell_type": "markdown",
   "id": "35565b13",
   "metadata": {},
   "source": [
    "### Summarize Columns"
   ]
  },
  {
   "cell_type": "code",
   "execution_count": 19,
   "id": "a4474b6f",
   "metadata": {},
   "outputs": [],
   "source": [
    "def describe_columns(df):\n",
    "    for i in num_cols:\n",
    "        print('Column: ' + i)\n",
    "        df.select(i).describe().show()"
   ]
  },
  {
   "cell_type": "markdown",
   "id": "66b98d97",
   "metadata": {},
   "source": [
    "### Describe Numeric Columns to get statistical values\n",
    "#### Excludes Survived as it is now the Label to predict"
   ]
  },
  {
   "cell_type": "code",
   "execution_count": 20,
   "id": "6129265c",
   "metadata": {},
   "outputs": [
    {
     "name": "stdout",
     "output_type": "stream",
     "text": [
      "Column: Pclass\n",
      "+-------+------------------+\n",
      "|summary|            Pclass|\n",
      "+-------+------------------+\n",
      "|  count|               183|\n",
      "|   mean|1.1912568306010929|\n",
      "| stddev|0.5151869975715835|\n",
      "|    min|                 1|\n",
      "|    max|                 3|\n",
      "+-------+------------------+\n",
      "\n",
      "Column: Age\n",
      "+-------+------------------+\n",
      "|summary|               Age|\n",
      "+-------+------------------+\n",
      "|  count|               183|\n",
      "|   mean|  35.6744262295082|\n",
      "| stddev|15.643865966849717|\n",
      "|    min|              0.92|\n",
      "|    max|              80.0|\n",
      "+-------+------------------+\n",
      "\n",
      "Column: SibSp\n",
      "+-------+------------------+\n",
      "|summary|             SibSp|\n",
      "+-------+------------------+\n",
      "|  count|               183|\n",
      "|   mean|0.4644808743169399|\n",
      "| stddev|0.6441585604537324|\n",
      "|    min|                 0|\n",
      "|    max|                 3|\n",
      "+-------+------------------+\n",
      "\n",
      "Column: Parch\n",
      "+-------+-------------------+\n",
      "|summary|              Parch|\n",
      "+-------+-------------------+\n",
      "|  count|                183|\n",
      "|   mean|0.47540983606557374|\n",
      "| stddev| 0.7546170860086108|\n",
      "|    min|                  0|\n",
      "|    max|                  4|\n",
      "+-------+-------------------+\n",
      "\n",
      "Column: Fare\n",
      "+-------+-----------------+\n",
      "|summary|             Fare|\n",
      "+-------+-----------------+\n",
      "|  count|              183|\n",
      "|   mean|78.68246885245901|\n",
      "| stddev|76.34784270040569|\n",
      "|    min|              0.0|\n",
      "|    max|         512.3292|\n",
      "+-------+-----------------+\n",
      "\n"
     ]
    }
   ],
   "source": [
    "describe_columns(titanic_train)"
   ]
  },
  {
   "cell_type": "markdown",
   "id": "de352dec",
   "metadata": {},
   "source": [
    "## Process categorical columns\n",
    "\n",
    "The following code does three things with pipeline:\n",
    "\n",
    "* **`StringIndexer`** all categorical columns\n",
    "* **`OneHotEncoder`** all categorical index columns\n",
    "* **`VectorAssembler`** all feature columns into one vector column"
   ]
  },
  {
   "cell_type": "markdown",
   "id": "7dca6adc",
   "metadata": {},
   "source": [
    "### Categorical columns: Create String Indexer, One Hot Encoder, and Vector Assembler"
   ]
  },
  {
   "cell_type": "code",
   "execution_count": 21,
   "id": "f6259538",
   "metadata": {},
   "outputs": [],
   "source": [
    "from pyspark.ml.feature import StringIndexer, OneHotEncoder, VectorAssembler\n",
    "from pyspark.ml import Pipeline\n",
    "from pyspark.sql.functions import col"
   ]
  },
  {
   "cell_type": "code",
   "execution_count": 22,
   "id": "cf4d6eec",
   "metadata": {},
   "outputs": [],
   "source": [
    "indexers = [ StringIndexer(inputCol=c, outputCol=\"{0}_indexed\".format(c)) for c in catcols]\n",
    "#indexers += [StringIndexer(inputCol='Survived', outputCol='label')]"
   ]
  },
  {
   "cell_type": "code",
   "execution_count": 23,
   "id": "1496b4fa",
   "metadata": {},
   "outputs": [],
   "source": [
    "encoders = [ OneHotEncoder(inputCol=indexer.getOutputCol(), \\\n",
    "                           outputCol=\"{0}_encoded\".format(indexer.getOutputCol())) \\\n",
    "                           for indexer in indexers]"
   ]
  },
  {
   "cell_type": "code",
   "execution_count": 24,
   "id": "b428cb7b",
   "metadata": {},
   "outputs": [],
   "source": [
    "assembler = VectorAssembler(inputCols=[encoder.getOutputCol() \\\n",
    "                    for encoder in encoders] + num_cols, outputCol=\"features\")"
   ]
  },
  {
   "attachments": {
    "image.png": {
     "image/png": "[encoded data removed]"
    }
   },
   "cell_type": "markdown",
   "id": "d32c0a6c",
   "metadata": {},
   "source": [
    "### Create the Pipeline and Model to apply on all the ML modules\n",
    "\n",
    "> We are going to convert all the data into two columns : Features and Labels\\\n",
    "> Features will take all the categorical and numeric data to create a feature extract\\\n",
    "> We are going to assiign the label we already know. Values are: 0 = Did not survive, 1 = Survived\n",
    ">\n",
    "> A Pipeline consists of a sequence of stages, each of which is either an Estimator or a Transformer\n",
    ">\n",
    "> Transformer: A Transformer is an algorithm which can transform one DataFrame into another DataFrame. E.g., an ML model is a Transformer which transforms a DataFrame with features into a DataFrame with predictions.\n",
    ">\n",
    ">Estimator: An Estimator is an algorithm which can be fit on a DataFrame to produce a Transformer. E.g., a learning algorithm is an Estimator which trains on a DataFrame and produces a model.\n",
    ">\n",
    ">Pipeline: A Pipeline chains multiple Transformers and Estimators together to specify an ML workflow.\n",
    "\n",
    "The figure below is for the training time usage of a Pipeline.\n",
    "\n",
    "![image.png](attachment:image.png)\n",
    "\n",
    "Reference: https://spark.apache.org/docs/latest/ml-pipeline.html (Spark Apace Website)"
   ]
  },
  {
   "cell_type": "code",
   "execution_count": 25,
   "id": "e26d88a9",
   "metadata": {},
   "outputs": [
    {
     "name": "stdout",
     "output_type": "stream",
     "text": [
      "+----------------------------------------------------------------------------------------+-----+\n",
      "|features                                                                                |label|\n",
      "+----------------------------------------------------------------------------------------+-----+\n",
      "|(630,[19,238,481,583,624,625,626,627,629],[1.0,1.0,1.0,1.0,1.0,1.0,38.0,1.0,71.2833])   |1    |\n",
      "|(630,[70,256,379,508,623,625,626,627,629],[1.0,1.0,1.0,1.0,1.0,1.0,35.0,1.0,53.1])      |1    |\n",
      "|(630,[136,297,364,446,615,623,625,626,629],[1.0,1.0,1.0,1.0,1.0,1.0,1.0,54.0,51.8625])  |0    |\n",
      "|(630,[1,331,405,493,623,625,626,627,628,629],[1.0,1.0,1.0,1.0,1.0,3.0,4.0,1.0,1.0,16.7])|1    |\n",
      "|(630,[4,217,427,563,623,625,626,629],[1.0,1.0,1.0,1.0,1.0,1.0,58.0,26.55])              |1    |\n",
      "+----------------------------------------------------------------------------------------+-----+\n",
      "only showing top 5 rows\n",
      "\n"
     ]
    }
   ],
   "source": [
    "pipeline = Pipeline(stages=indexers + encoders + [assembler])\n",
    "model=pipeline.fit(titanic_train)\n",
    "data = model.transform(titanic_train)\n",
    "data = data.withColumn('label',col(labelCol))\n",
    "data=data.select('features','label')\n",
    "data.show(5, truncate=False)"
   ]
  },
  {
   "cell_type": "markdown",
   "id": "8a3c9ce1",
   "metadata": {},
   "source": [
    "### Having run this multiple times with various split options for training / test\n",
    "\n",
    "> Here are my findings:\n",
    ">\n",
    "> The best option are as follows:\\\n",
    "> maxCategories = 4 and Training & Test split = 60% and 40%"
   ]
  },
  {
   "cell_type": "markdown",
   "id": "7d830ec1",
   "metadata": {},
   "source": [
    "### Create the indexedFeatures for processing"
   ]
  },
  {
   "cell_type": "code",
   "execution_count": 26,
   "id": "9c31c35e",
   "metadata": {},
   "outputs": [],
   "source": [
    "from pyspark.ml.feature import VectorIndexer\n",
    "# Here I am trying to automatically identify the categorical features\n",
    "# and index them. I am setting maxCategories to 4 \n",
    "# (The more categories, the accuracy reduces; 4 seems to be the best at 60% Training & 40% Test)\n",
    "# Best accuracy score reached was 74% on a few tries\n",
    "\n",
    "featureIndexer =VectorIndexer(inputCol=\"features\", \\\n",
    "                                  outputCol=\"indexedFeatures\", \\\n",
    "                                  maxCategories=4).fit(data)"
   ]
  },
  {
   "cell_type": "code",
   "execution_count": 27,
   "id": "e96d2e9f",
   "metadata": {},
   "outputs": [
    {
     "name": "stdout",
     "output_type": "stream",
     "text": [
      "+--------------------+-----+--------------------+\n",
      "|            features|label|     indexedFeatures|\n",
      "+--------------------+-----+--------------------+\n",
      "|(630,[19,238,481,...|    1|(630,[19,238,481,...|\n",
      "|(630,[70,256,379,...|    1|(630,[70,256,379,...|\n",
      "|(630,[136,297,364...|    0|(630,[136,297,364...|\n",
      "|(630,[1,331,405,4...|    1|(630,[1,331,405,4...|\n",
      "|(630,[4,217,427,5...|    1|(630,[4,217,427,5...|\n",
      "+--------------------+-----+--------------------+\n",
      "only showing top 5 rows\n",
      "\n"
     ]
    }
   ],
   "source": [
    "# Now I have the feature Indexer to start doing the training and test\n",
    "data=featureIndexer.transform(data)\n",
    "data.show(5)"
   ]
  },
  {
   "cell_type": "markdown",
   "id": "745a6b4b",
   "metadata": {},
   "source": [
    "### Split the data to training and test data sets"
   ]
  },
  {
   "cell_type": "code",
   "execution_count": 28,
   "id": "36057527",
   "metadata": {},
   "outputs": [
    {
     "name": "stdout",
     "output_type": "stream",
     "text": [
      "+--------------------------------------------------------------------------------------------+-----+--------------------------------------------------------------------------------------------+\n",
      "|features                                                                                    |label|indexedFeatures                                                                             |\n",
      "+--------------------------------------------------------------------------------------------+-----+--------------------------------------------------------------------------------------------+\n",
      "|(630,[0,361,364,392,518,623,625,626,628,629],[1.0,1.0,1.0,1.0,1.0,1.0,1.0,21.0,1.0,77.2875])|0    |(630,[0,361,364,392,518,623,625,626,628,629],[1.0,1.0,1.0,1.0,1.0,1.0,0.0,21.0,1.0,77.2875])|\n",
      "|(630,[2,323,364,407,565,623,625,626,629],[1.0,1.0,1.0,1.0,1.0,1.0,1.0,47.0,52.0])           |0    |(630,[2,323,364,407,565,623,625,626,629],[1.0,1.0,1.0,1.0,1.0,1.0,0.0,47.0,52.0])           |\n",
      "|(630,[6,360,364,392,518,623,625,626,628,629],[1.0,1.0,1.0,1.0,1.0,1.0,1.0,54.0,1.0,77.2875])|0    |(630,[6,360,364,392,518,623,625,626,628,629],[1.0,1.0,1.0,1.0,1.0,1.0,0.0,54.0,1.0,77.2875])|\n",
      "|(630,[9,258,364,399,560,624,625,626,629],[1.0,1.0,1.0,1.0,1.0,1.0,1.0,24.0,79.2])           |0    |(630,[9,258,364,399,560,624,625,626,629],[1.0,1.0,1.0,1.0,1.0,1.0,0.0,24.0,79.2])           |\n",
      "|(630,[11,317,378,510,623,625,626,627,629],[1.0,1.0,1.0,1.0,1.0,1.0,22.0,1.0,66.6])          |1    |(630,[11,317,378,510,623,625,626,627,629],[1.0,1.0,1.0,1.0,1.0,0.0,22.0,1.0,66.6])          |\n",
      "+--------------------------------------------------------------------------------------------+-----+--------------------------------------------------------------------------------------------+\n",
      "only showing top 5 rows\n",
      "\n",
      "+---------------------------------------------------------------------------------------------+-----+---------------------------------------------------------------------------------------------+\n",
      "|features                                                                                     |label|indexedFeatures                                                                              |\n",
      "+---------------------------------------------------------------------------------------------+-----+---------------------------------------------------------------------------------------------+\n",
      "|(630,[1,331,405,493,623,625,626,627,628,629],[1.0,1.0,1.0,1.0,1.0,3.0,4.0,1.0,1.0,16.7])     |1    |(630,[1,331,405,493,623,625,626,627,628,629],[1.0,1.0,1.0,1.0,1.0,2.0,4.0,1.0,1.0,16.7])     |\n",
      "|(630,[3,202,364,398,506,624,625,626,628,629],[1.0,1.0,1.0,1.0,1.0,1.0,1.0,24.0,1.0,247.5208])|0    |(630,[3,202,364,398,506,624,625,626,628,629],[1.0,1.0,1.0,1.0,1.0,1.0,0.0,24.0,1.0,247.5208])|\n",
      "|(630,[4,217,427,563,623,625,626,629],[1.0,1.0,1.0,1.0,1.0,1.0,58.0,26.55])                   |1    |(630,[4,217,427,563,623,625,626,629],[1.0,1.0,1.0,1.0,1.0,0.0,58.0,26.55])                   |\n",
      "|(630,[5,359,456,522,623,625,626,629],[1.0,1.0,1.0,1.0,1.0,2.0,32.5,13.0])                    |1    |(630,[5,359,456,522,623,625,626,629],[1.0,1.0,1.0,1.0,1.0,1.0,32.5,13.0])                    |\n",
      "|(630,[7,312,432,598,623,625,626,628,629],[1.0,1.0,1.0,1.0,1.0,1.0,19.0,2.0,26.2833])         |1    |(630,[7,312,432,598,623,625,626,628,629],[1.0,1.0,1.0,1.0,1.0,0.0,19.0,2.0,26.2833])         |\n",
      "+---------------------------------------------------------------------------------------------+-----+---------------------------------------------------------------------------------------------+\n",
      "only showing top 5 rows\n",
      "\n"
     ]
    }
   ],
   "source": [
    "# Split the data into training and test sets (40% held out for testing)\n",
    "(trainingData, testData) = data.randomSplit([0.6, 0.4])\n",
    "trainingData.show(5,False)\n",
    "testData.show(5,False)"
   ]
  },
  {
   "cell_type": "markdown",
   "id": "6acd02c7",
   "metadata": {},
   "source": [
    "## Build cross-validation model\n",
    "\n",
    "\n",
    "## Cross-Validation\n",
    "\n",
    "In general, one round of cross-validation involves partitioning a sample of data into complementary subsets, performing the analysis on one subset (called the training set), and validating the analysis on the other subset (called the validation set or testing set).\n",
    "CrossValidator begins by splitting the dataset into a set of folds which are used as separate training and test datasets. E.g., with k=3 folds, CrossValidator will generate 3 (training, test) dataset pairs, each of which uses 2/3 of the data for training and 1/3 for testing. To evaluate a particular ParamMap, CrossValidator computes the average evaluation metric for the 3 Models produced by fitting the Estimator on the 3 different (training, test) dataset pairs.\n",
    "\n",
    "After identifying the best ParamMap, CrossValidator finally re-fits the Estimator using the best ParamMap and the entire dataset.  In simple term, pickup the ParamMap that produces the best model and to use that model for subsequent transform().\n",
    "\n",
    "## We will be running the cross-validaton models on the following:\n",
    "\n",
    "> <font size='4'>**Naive Bayes Analysis**</font>\n",
    ">\n",
    "> <font size='4'>**Logistic Regression**</font>\n",
    ">\n",
    "> <font size='4'>**Linear Support Vector Machine**</font>\n",
    ">\n",
    "> <font size='4'>**Random Forest**</font>\n",
    ">\n",
    "> <font size='4'>**Gradient Boosted Tree**</font>"
   ]
  },
  {
   "cell_type": "markdown",
   "id": "334317d5",
   "metadata": {},
   "source": [
    "## Confusion Matrix\n",
    "\n",
    "### For every prediction, we have 6 key things to look at:\n",
    "- False Positive\n",
    "- False Negative\n",
    "- True Negative\n",
    "- True Positive\n",
    "- Accuracy\n",
    "- Precision\n",
    "\n",
    "Reference: https://neptune.ai/blog/evaluation-metrics-binary-classification"
   ]
  },
  {
   "attachments": {
    "image.png": {
     "image/png": "[encoded data removed]"
    }
   },
   "cell_type": "markdown",
   "id": "f4f93e16",
   "metadata": {},
   "source": [
    "### False Positive Rate | Type I error\n",
    "\n",
    "When we predict something when it isn’t we are contributing to the false positive rate. You can think of it as a fraction of false alerts that will be raised based on your model predictions\n",
    "\n",
    "![image.png](attachment:image.png)"
   ]
  },
  {
   "attachments": {
    "image.png": {
     "image/png": "[encoded data removed]"
    }
   },
   "cell_type": "markdown",
   "id": "fc004aff",
   "metadata": {},
   "source": [
    "### False Negative Rate | Type II error\n",
    "\n",
    "When we don’t predict something when it is, we are contributing to the false negative rate. You can think of it as a fraction of missed fraudulent transactions that your model lets through.\n",
    "\n",
    "![image.png](attachment:image.png)"
   ]
  },
  {
   "attachments": {
    "image.png": {
     "image/png": "[encoded data removed]"
    }
   },
   "cell_type": "markdown",
   "id": "9b4cb032",
   "metadata": {},
   "source": [
    "### True Negative Rate | Specificity\n",
    "\n",
    "It measures how many observations out of all negative observations have we classified as negative. In our fraud detection example, it tells us how many transactions, out of all non-fraudulent transactions, we marked as clean.\n",
    "\n",
    "![image.png](attachment:image.png)"
   ]
  },
  {
   "attachments": {
    "image.png": {
     "image/png": "[encoded data removed]"
    }
   },
   "cell_type": "markdown",
   "id": "12a1e7fd",
   "metadata": {},
   "source": [
    "### True Positive Rate | Recall | Sensitivity\n",
    "\n",
    "It measures how many observations out of all positive observations have we classified as positive. It tells us how many fraudulent transactions we recalled from all fraudulent transactions.\n",
    "\n",
    "![image.png](attachment:image.png)"
   ]
  },
  {
   "attachments": {
    "image.png": {
     "image/png": "[encoded data removed]"
    }
   },
   "cell_type": "markdown",
   "id": "694cb891",
   "metadata": {},
   "source": [
    "### Accuracy\n",
    "It measures how many observations, both positive and negative, were correctly classified.\n",
    "\n",
    "![image.png](attachment:image.png)"
   ]
  },
  {
   "attachments": {
    "image.png": {
     "image/png": "[encoded data removed]"
    }
   },
   "cell_type": "markdown",
   "id": "7e358a6f",
   "metadata": {},
   "source": [
    "### Positive Predictive Value | Precision\n",
    "\n",
    "It measures how many observations predicted as positive are in fact positive. Taking our fraud detection example, it tells us what is the ratio of transactions correctly classified as fraudulent.\n",
    "\n",
    "![image.png](attachment:image.png)"
   ]
  },
  {
   "attachments": {
    "image.png": {
     "image/png": "[encoded data removed]"
    }
   },
   "cell_type": "markdown",
   "id": "47feb877",
   "metadata": {},
   "source": [
    "## Cross-Valitation Model on : Naive Bayes Analysis\n",
    "\n",
    "Naive Bayes is a probabilistic machine learning algorithm based on the Bayes Theorem, used in a wide variety of classification tasks. Using Bayes theorem, we can find the probability of A happening, given that B has occurred. Here, B is the evidence and A is the hypothesis. The assumption made here is that the predictors/features are independent. That is presence of one particular feature does not affect the other. Hence it is called naive.\n",
    "\n",
    "![image.png](attachment:image.png)"
   ]
  },
  {
   "cell_type": "code",
   "execution_count": 29,
   "id": "4da0eb52",
   "metadata": {},
   "outputs": [],
   "source": [
    "from pyspark.ml.classification import NaiveBayes\n",
    "naivebayes = NaiveBayes(featuresCol=\"indexedFeatures\", labelCol=\"label\")"
   ]
  },
  {
   "cell_type": "code",
   "execution_count": 30,
   "id": "0be167ec",
   "metadata": {},
   "outputs": [],
   "source": [
    "# Train the model for Naive Bayes Analysis model.  This also runs the indexers.\n",
    "nb_model = naivebayes.fit(trainingData)"
   ]
  },
  {
   "cell_type": "code",
   "execution_count": 31,
   "id": "2deef007",
   "metadata": {},
   "outputs": [
    {
     "name": "stdout",
     "output_type": "stream",
     "text": [
      "+--------------------+-----+--------------------+----------+--------------------+\n",
      "|            features|label|     indexedFeatures|prediction|       rawPrediction|\n",
      "+--------------------+-----+--------------------+----------+--------------------+\n",
      "|(630,[1,331,405,4...|    1|(630,[1,331,405,4...|       1.0|[-78.342289069743...|\n",
      "|(630,[3,202,364,3...|    0|(630,[3,202,364,3...|       1.0|[-249.06265831344...|\n",
      "|(630,[4,217,427,5...|    1|(630,[4,217,427,5...|       0.0|[-126.78657526394...|\n",
      "|(630,[5,359,456,5...|    1|(630,[5,359,456,5...|       0.0|[-93.435322314522...|\n",
      "|(630,[7,312,432,5...|    1|(630,[7,312,432,5...|       0.0|[-91.337714943051...|\n",
      "+--------------------+-----+--------------------+----------+--------------------+\n",
      "only showing top 5 rows\n",
      "\n"
     ]
    }
   ],
   "source": [
    "# Make predictions.\n",
    "nb_predictions = nb_model.transform(testData)\n",
    "# Select example rows to display. \n",
    "nb_predictions.select(\"features\",\"label\",\"indexedFeatures\",\"prediction\",\"rawPrediction\").show(5)\n",
    "#nb_predictions.show(5, False)"
   ]
  },
  {
   "cell_type": "code",
   "execution_count": 32,
   "id": "9174f18d",
   "metadata": {},
   "outputs": [
    {
     "name": "stdout",
     "output_type": "stream",
     "text": [
      "Accuracy = 0.691358024691358\n",
      "Test Error = 0.308642\n"
     ]
    }
   ],
   "source": [
    "from pyspark.ml.evaluation import MulticlassClassificationEvaluator\n",
    "# Select (prediction, true label) and compute test error\n",
    "evaluator = MulticlassClassificationEvaluator(\n",
    "    labelCol=\"label\", predictionCol=\"prediction\", metricName=\"accuracy\")\n",
    "nb_accuracy = evaluator.evaluate(nb_predictions)\n",
    "print(f\"Accuracy = {nb_accuracy}\")\n",
    "print(\"Test Error = %g\" % (1.0 - nb_accuracy))"
   ]
  },
  {
   "cell_type": "code",
   "execution_count": 33,
   "id": "260f008c",
   "metadata": {
    "scrolled": true
   },
   "outputs": [
    {
     "name": "stdout",
     "output_type": "stream",
     "text": [
      "training data (f1): 0.6991794603006276 \n",
      " training data (weightedPrecision):  0.7170548073325851 \n",
      " training data (weightedRecall):  0.691358024691358 \n",
      " training data (accuracy):  0.691358024691358\n"
     ]
    }
   ],
   "source": [
    "print('training data (f1):', evaluator.setMetricName('f1').evaluate(nb_predictions), \"\\n\",\n",
    "     'training data (weightedPrecision): ', evaluator.setMetricName('weightedPrecision').evaluate(nb_predictions),\"\\n\",\n",
    "     'training data (weightedRecall): ', evaluator.setMetricName('weightedRecall').evaluate(nb_predictions),\"\\n\",\n",
    "     'training data (accuracy): ', evaluator.setMetricName('accuracy').evaluate(nb_predictions))"
   ]
  },
  {
   "cell_type": "markdown",
   "id": "e9df275d",
   "metadata": {},
   "source": [
    "### Get Confusion Matrix"
   ]
  },
  {
   "cell_type": "code",
   "execution_count": 34,
   "id": "15d06969",
   "metadata": {},
   "outputs": [],
   "source": [
    "y_pred=nb_predictions.select(\"prediction\").collect()\n",
    "y_orig=nb_predictions.select(\"label\").collect()"
   ]
  },
  {
   "cell_type": "code",
   "execution_count": 35,
   "id": "2505e426",
   "metadata": {},
   "outputs": [
    {
     "name": "stdout",
     "output_type": "stream",
     "text": [
      "Confusion Matrix:\n",
      "[[17  9]\n",
      " [16 39]]\n"
     ]
    }
   ],
   "source": [
    "from sklearn.metrics import confusion_matrix, ConfusionMatrixDisplay, recall_score\n",
    "cm = confusion_matrix(y_orig, y_pred)\n",
    "print(\"Confusion Matrix:\")\n",
    "print(cm)"
   ]
  },
  {
   "cell_type": "code",
   "execution_count": 36,
   "id": "3e697394",
   "metadata": {},
   "outputs": [
    {
     "name": "stdout",
     "output_type": "stream",
     "text": [
      "For Naive Bayes Analysis :\n",
      "\n",
      "The false positive or type I error  rate is 0.2909090909090909\n",
      "The false negative or type II error rate is 0.34615384615384615\n",
      "The true negative or sensitivity    rate is 0.6538461538461539\n",
      "The true positive or recall         rate is 0.7090909090909091\n"
     ]
    }
   ],
   "source": [
    "tn, fp, fn, tp = cm.ravel()\n",
    "\n",
    "false_positive_rate = fp / (fp + tn)\n",
    "false_negative_rate = fn / (tp + fn)\n",
    "true_negative_rate = tn / (tn + fp)\n",
    "recall = recall_score(y_orig, y_pred)\n",
    "\n",
    "print('For Naive Bayes Analysis :\\n')\n",
    "print('The false positive or type I error  rate is {}'.format(false_negative_rate))\n",
    "print('The false negative or type II error rate is {}'.format(false_positive_rate))\n",
    "print('The true negative or sensitivity    rate is {}'.format(true_negative_rate))\n",
    "print('The true positive or recall         rate is {}'.format(recall))"
   ]
  },
  {
   "cell_type": "code",
   "execution_count": 37,
   "id": "b48c44d7",
   "metadata": {},
   "outputs": [
    {
     "data": {
      "text/plain": [
       "<sklearn.metrics._plot.confusion_matrix.ConfusionMatrixDisplay at 0x7fa173961f90>"
      ]
     },
     "execution_count": 37,
     "metadata": {},
     "output_type": "execute_result"
    },
    {
     "data": {
      "image/png": "[encoded data removed]",
      "text/plain": [
       "<Figure size 640x480 with 2 Axes>"
      ]
     },
     "metadata": {},
     "output_type": "display_data"
    }
   ],
   "source": [
    "disp = ConfusionMatrixDisplay(confusion_matrix=cm)\n",
    "disp.plot()"
   ]
  },
  {
   "cell_type": "markdown",
   "id": "de82bac5",
   "metadata": {},
   "source": [
    "## Cross-Valitation Model on : Logistic Regression\n",
    "\n",
    "Logistic regression is a popular method to predict a categorical response. It is a special case of Generalized Linear models that predicts the probability of the outcomes. In spark.ml logistic regression can be used to predict a binary outcome by using binomial logistic regression, or it can be used to predict a multiclass outcome by using multinomial logistic regression."
   ]
  },
  {
   "cell_type": "code",
   "execution_count": 38,
   "id": "492940ea",
   "metadata": {},
   "outputs": [],
   "source": [
    "from pyspark.ml.classification import LogisticRegression\n",
    "logr = LogisticRegression(featuresCol='indexedFeatures', labelCol='label')"
   ]
  },
  {
   "cell_type": "code",
   "execution_count": 39,
   "id": "a897251d",
   "metadata": {},
   "outputs": [
    {
     "name": "stdout",
     "output_type": "stream",
     "text": [
      "23/05/28 19:16:57 WARN InstanceBuilder$NativeBLAS: Failed to load implementation from:dev.ludovic.netlib.blas.JNIBLAS\n",
      "23/05/28 19:16:57 WARN InstanceBuilder$NativeBLAS: Failed to load implementation from:dev.ludovic.netlib.blas.ForeignLinkerBLAS\n",
      "23/05/28 19:16:57 WARN BLAS: Failed to load implementation from: com.github.fommil.netlib.NativeSystemBLAS\n",
      "23/05/28 19:16:57 WARN BLAS: Failed to load implementation from: com.github.fommil.netlib.NativeRefBLAS\n"
     ]
    }
   ],
   "source": [
    "# Train the model for logistic regression model.  This also runs the indexers.\n",
    "lg_model = logr.fit(trainingData)"
   ]
  },
  {
   "cell_type": "code",
   "execution_count": 40,
   "id": "d82fe46a",
   "metadata": {},
   "outputs": [
    {
     "name": "stdout",
     "output_type": "stream",
     "text": [
      "+--------------------+--------------------+-----+----------+--------------------+\n",
      "|            features|     indexedFeatures|label|prediction|       rawPrediction|\n",
      "+--------------------+--------------------+-----+----------+--------------------+\n",
      "|(630,[1,331,405,4...|(630,[1,331,405,4...|    1|       1.0|[-9.7465647014016...|\n",
      "|(630,[3,202,364,3...|(630,[3,202,364,3...|    0|       1.0|[-6.5903142085768...|\n",
      "|(630,[4,217,427,5...|(630,[4,217,427,5...|    1|       1.0|[-5.3137100220767...|\n",
      "|(630,[5,359,456,5...|(630,[5,359,456,5...|    1|       1.0|[-6.4149030186259...|\n",
      "|(630,[7,312,432,5...|(630,[7,312,432,5...|    1|       1.0|[-6.7004060868336...|\n",
      "+--------------------+--------------------+-----+----------+--------------------+\n",
      "only showing top 5 rows\n",
      "\n"
     ]
    }
   ],
   "source": [
    "# Make predictions on the Test Data\n",
    "lg_predictions = lg_model.transform(testData)\n",
    "# Select example rows to display from the Test Data\n",
    "lg_predictions.select(\"features\",\"indexedFeatures\",\"label\",\"prediction\",\"rawPrediction\").show(5)\n"
   ]
  },
  {
   "cell_type": "code",
   "execution_count": 41,
   "id": "7f4c31c4",
   "metadata": {},
   "outputs": [
    {
     "name": "stdout",
     "output_type": "stream",
     "text": [
      "Accuracy = 0.6666666666666666\n",
      "Test Error = 0.333333\n"
     ]
    }
   ],
   "source": [
    "from pyspark.ml.evaluation import MulticlassClassificationEvaluator\n",
    "# Select (prediction, true label) and compute test error\n",
    "evaluator = MulticlassClassificationEvaluator(\n",
    "    labelCol=\"label\", predictionCol=\"prediction\", metricName=\"accuracy\")\n",
    "lg_accuracy = evaluator.evaluate(lg_predictions)\n",
    "print(f\"Accuracy = {lg_accuracy}\")\n",
    "print(\"Test Error = %g\" % (1.0 - lg_accuracy))"
   ]
  },
  {
   "cell_type": "markdown",
   "id": "9798d404",
   "metadata": {},
   "source": [
    "### Get Confusion Matrix"
   ]
  },
  {
   "cell_type": "code",
   "execution_count": 42,
   "id": "c618f173",
   "metadata": {},
   "outputs": [],
   "source": [
    "y_pred=lg_predictions.select(\"prediction\").collect()\n",
    "y_orig=lg_predictions.select(\"label\").collect()"
   ]
  },
  {
   "cell_type": "code",
   "execution_count": 43,
   "id": "9a6fc3db",
   "metadata": {},
   "outputs": [
    {
     "name": "stdout",
     "output_type": "stream",
     "text": [
      "Confusion Matrix:\n",
      "[[ 2 24]\n",
      " [ 3 52]]\n"
     ]
    }
   ],
   "source": [
    "from sklearn.metrics import confusion_matrix, ConfusionMatrixDisplay, recall_score\n",
    "cm = confusion_matrix(y_orig, y_pred)\n",
    "print(\"Confusion Matrix:\")\n",
    "print(cm)"
   ]
  },
  {
   "cell_type": "code",
   "execution_count": 44,
   "id": "d7d74fff",
   "metadata": {},
   "outputs": [
    {
     "name": "stdout",
     "output_type": "stream",
     "text": [
      "For Logistic Regression :\n",
      "\n",
      "The false positive or type I error  rate is 0.05454545454545454\n",
      "The false negative or type II error rate is 0.9230769230769231\n",
      "The true negative or sensitivity    rate is 0.07692307692307693\n",
      "The true positive or recall         rate is 0.9454545454545454\n"
     ]
    }
   ],
   "source": [
    "tn, fp, fn, tp = cm.ravel()\n",
    "\n",
    "false_positive_rate = fp / (fp + tn)\n",
    "false_negative_rate = fn / (tp + fn)\n",
    "true_negative_rate = tn / (tn + fp)\n",
    "recall = recall_score(y_orig, y_pred)\n",
    "\n",
    "print('For Logistic Regression :\\n')\n",
    "print('The false positive or type I error  rate is {}'.format(false_negative_rate))\n",
    "print('The false negative or type II error rate is {}'.format(false_positive_rate))\n",
    "print('The true negative or sensitivity    rate is {}'.format(true_negative_rate))\n",
    "print('The true positive or recall         rate is {}'.format(recall))"
   ]
  },
  {
   "cell_type": "code",
   "execution_count": 45,
   "id": "1deb9fe7",
   "metadata": {},
   "outputs": [
    {
     "data": {
      "text/plain": [
       "<sklearn.metrics._plot.confusion_matrix.ConfusionMatrixDisplay at 0x7fa1724fece0>"
      ]
     },
     "execution_count": 45,
     "metadata": {},
     "output_type": "execute_result"
    },
    {
     "data": {
      "image/png": "[encoded data removed]",
      "text/plain": [
       "<Figure size 640x480 with 2 Axes>"
      ]
     },
     "metadata": {},
     "output_type": "display_data"
    }
   ],
   "source": [
    "tn, fp, fn, tp = cm.ravel()\n",
    "disp = ConfusionMatrixDisplay(confusion_matrix=cm)\n",
    "disp.plot()"
   ]
  },
  {
   "cell_type": "markdown",
   "id": "c18d49d4",
   "metadata": {},
   "source": [
    "## Cross-Valitation Model on : Linear Support Vector Machine\n",
    "\n",
    "A support vector machine constructs a hyperplane or set of hyperplanes in a high- or infinite-dimensional space, which can be used for classification, regression, or other tasks. Intuitively, a good separation is achieved by the hyperplane that has the largest distance to the nearest training-data points of any class (so-called functional margin), since in general the larger the margin the lower the generalization error of the classifier. LinearSVC in Spark ML supports binary classification with linear SVM. Internally, it optimizes the Hinge Loss using OWLQN optimizer."
   ]
  },
  {
   "cell_type": "code",
   "execution_count": 46,
   "id": "60e240ff",
   "metadata": {},
   "outputs": [],
   "source": [
    "from pyspark.ml.classification import LinearSVC\n",
    "lsvc = LinearSVC(featuresCol=\"indexedFeatures\", labelCol=\"label\", maxIter=50)"
   ]
  },
  {
   "cell_type": "code",
   "execution_count": 47,
   "id": "c0fe469b",
   "metadata": {},
   "outputs": [],
   "source": [
    "# Train the model for Linear Support Vector Machine model.  This also runs the indexers.\n",
    "lsvc_model = lsvc.fit(trainingData)"
   ]
  },
  {
   "cell_type": "code",
   "execution_count": 48,
   "id": "c4277b0d",
   "metadata": {},
   "outputs": [
    {
     "name": "stdout",
     "output_type": "stream",
     "text": [
      "+--------------------+-----+--------------------+--------------------+----------+\n",
      "|            features|label|     indexedFeatures|       rawPrediction|prediction|\n",
      "+--------------------+-----+--------------------+--------------------+----------+\n",
      "|(630,[1,331,405,4...|    1|(630,[1,331,405,4...|[-0.7267874957847...|       1.0|\n",
      "|(630,[3,202,364,3...|    0|(630,[3,202,364,3...|[-0.4134416141310...|       1.0|\n",
      "|(630,[4,217,427,5...|    1|(630,[4,217,427,5...|[-0.3072110229268...|       1.0|\n",
      "|(630,[5,359,456,5...|    1|(630,[5,359,456,5...|[-0.4313916204631...|       1.0|\n",
      "|(630,[7,312,432,5...|    1|(630,[7,312,432,5...|[-0.4335250050648...|       1.0|\n",
      "+--------------------+-----+--------------------+--------------------+----------+\n",
      "only showing top 5 rows\n",
      "\n"
     ]
    }
   ],
   "source": [
    "# Make predictions on the Test Data\n",
    "lsvc_predictions = lsvc_model.transform(testData)\n",
    "# Select example rows to display. \n",
    "lsvc_predictions.show(5)"
   ]
  },
  {
   "cell_type": "code",
   "execution_count": 49,
   "id": "abc3e900",
   "metadata": {},
   "outputs": [
    {
     "name": "stdout",
     "output_type": "stream",
     "text": [
      "Accuracy = 0.7160493827160493\n",
      "Test Error = 0.283951\n"
     ]
    }
   ],
   "source": [
    "from pyspark.ml.evaluation import MulticlassClassificationEvaluator\n",
    "# Select (prediction, true label) and compute test error\n",
    "evaluator = MulticlassClassificationEvaluator(\n",
    "    labelCol=\"label\", predictionCol=\"prediction\", metricName=\"accuracy\")\n",
    "lsvc_accuracy = evaluator.evaluate(lsvc_predictions)\n",
    "print(f\"Accuracy = {lsvc_accuracy}\")\n",
    "print(\"Test Error = %g\" % (1.0 - lsvc_accuracy))"
   ]
  },
  {
   "cell_type": "markdown",
   "id": "3412bd59",
   "metadata": {},
   "source": [
    "### Get Confusion Matrix"
   ]
  },
  {
   "cell_type": "code",
   "execution_count": 50,
   "id": "725b4934",
   "metadata": {},
   "outputs": [],
   "source": [
    "y_pred=lsvc_predictions.select(\"prediction\").collect()\n",
    "y_orig=lsvc_predictions.select(\"label\").collect()"
   ]
  },
  {
   "cell_type": "code",
   "execution_count": 51,
   "id": "d2c21176",
   "metadata": {},
   "outputs": [
    {
     "name": "stdout",
     "output_type": "stream",
     "text": [
      "Confusion Matrix:\n",
      "[[10 16]\n",
      " [ 7 48]]\n"
     ]
    }
   ],
   "source": [
    "from sklearn.metrics import confusion_matrix, ConfusionMatrixDisplay, recall_score\n",
    "cm = confusion_matrix(y_orig, y_pred)\n",
    "\n",
    "print(\"Confusion Matrix:\")\n",
    "print(cm)"
   ]
  },
  {
   "cell_type": "code",
   "execution_count": 52,
   "id": "43c80f55",
   "metadata": {},
   "outputs": [
    {
     "name": "stdout",
     "output_type": "stream",
     "text": [
      "For Linear Support Vector Machine :\n",
      "\n",
      "The false positive or type I error  rate is 0.12727272727272726\n",
      "The false negative or type II error rate is 0.6153846153846154\n",
      "The true negative or sensitivity    rate is 0.38461538461538464\n",
      "The true positive or recall         rate is 0.8727272727272727\n"
     ]
    }
   ],
   "source": [
    "tn, fp, fn, tp = cm.ravel()\n",
    "\n",
    "false_positive_rate = fp / (fp + tn)\n",
    "false_negative_rate = fn / (tp + fn)\n",
    "true_negative_rate = tn / (tn + fp)\n",
    "recall = recall_score(y_orig, y_pred)\n",
    "\n",
    "print('For Linear Support Vector Machine :\\n')\n",
    "print('The false positive or type I error  rate is {}'.format(false_negative_rate))\n",
    "print('The false negative or type II error rate is {}'.format(false_positive_rate))\n",
    "print('The true negative or sensitivity    rate is {}'.format(true_negative_rate))\n",
    "print('The true positive or recall         rate is {}'.format(recall))"
   ]
  },
  {
   "cell_type": "code",
   "execution_count": 53,
   "id": "5abeb84b",
   "metadata": {},
   "outputs": [
    {
     "data": {
      "text/plain": [
       "<sklearn.metrics._plot.confusion_matrix.ConfusionMatrixDisplay at 0x7fa174014eb0>"
      ]
     },
     "execution_count": 53,
     "metadata": {},
     "output_type": "execute_result"
    },
    {
     "data": {
      "image/png": "[encoded data removed]",
      "text/plain": [
       "<Figure size 640x480 with 2 Axes>"
      ]
     },
     "metadata": {},
     "output_type": "display_data"
    }
   ],
   "source": [
    "disp = ConfusionMatrixDisplay(confusion_matrix=cm)\n",
    "disp.plot()"
   ]
  },
  {
   "cell_type": "markdown",
   "id": "f294932a",
   "metadata": {},
   "source": [
    "## Cross-Valitation Model on : Random Forest\n",
    "\n",
    "Decision trees and their ensembles are popular methods for the machine learning tasks of classification and regression. Decision trees are widely used since they are easy to interpret, handle categorical features, extend to the multiclass classification setting, do not require feature scaling, and are able to capture non-linearities and feature interactions. Tree ensemble algorithms such as random forests and boosting are among the top performers for classification and regression tasks.\n",
    "\n",
    "Random forests are ensembles of decision trees. Random forests combine many decision trees in order to reduce the risk of overfitting. The spark.ml implementation supports random forests for binary and multiclass classification and for regression, using both continuous and categorical features."
   ]
  },
  {
   "cell_type": "code",
   "execution_count": 54,
   "id": "8fa19d8c",
   "metadata": {},
   "outputs": [],
   "source": [
    "from pyspark.ml.classification import RandomForestClassifier\n",
    "\n",
    "random_forest = RandomForestClassifier(featuresCol='indexedFeatures', labelCol='label')"
   ]
  },
  {
   "cell_type": "code",
   "execution_count": 55,
   "id": "3f25732e",
   "metadata": {},
   "outputs": [],
   "source": [
    "# Train the model for Random Forest model.  This also runs the indexers.\n",
    "rf_model = random_forest.fit(trainingData)"
   ]
  },
  {
   "cell_type": "code",
   "execution_count": 56,
   "id": "82bd7bd8",
   "metadata": {},
   "outputs": [
    {
     "name": "stdout",
     "output_type": "stream",
     "text": [
      "+--------------------+-----+--------------------+--------------------+--------------------+----------+\n",
      "|            features|label|     indexedFeatures|       rawPrediction|         probability|prediction|\n",
      "+--------------------+-----+--------------------+--------------------+--------------------+----------+\n",
      "|(630,[1,331,405,4...|    1|(630,[1,331,405,4...|[5.53436188646526...|[0.27671809432326...|       1.0|\n",
      "|(630,[3,202,364,3...|    0|(630,[3,202,364,3...|[5.87405251918945...|[0.29370262595947...|       1.0|\n",
      "|(630,[4,217,427,5...|    1|(630,[4,217,427,5...|[5.50803759705957...|[0.27540187985297...|       1.0|\n",
      "|(630,[5,359,456,5...|    1|(630,[5,359,456,5...|[4.53436188646526...|[0.22671809432326...|       1.0|\n",
      "|(630,[7,312,432,5...|    1|(630,[7,312,432,5...|[4.53436188646526...|[0.22671809432326...|       1.0|\n",
      "+--------------------+-----+--------------------+--------------------+--------------------+----------+\n",
      "only showing top 5 rows\n",
      "\n"
     ]
    }
   ],
   "source": [
    "# Make predictions on the Test Data\n",
    "rf_predictions = rf_model.transform(testData)\n",
    "# Select example rows to display. \n",
    "rf_predictions.show(5)"
   ]
  },
  {
   "cell_type": "code",
   "execution_count": 57,
   "id": "ea1a08ee",
   "metadata": {},
   "outputs": [
    {
     "name": "stdout",
     "output_type": "stream",
     "text": [
      "Accuracy = 0.6790123456790124\n",
      "Test Error = 0.320988\n"
     ]
    }
   ],
   "source": [
    "from pyspark.ml.evaluation import MulticlassClassificationEvaluator\n",
    "# Select (prediction, true label) and compute test error\n",
    "evaluator = MulticlassClassificationEvaluator(\n",
    "    labelCol=\"label\", predictionCol=\"prediction\", metricName=\"accuracy\")\n",
    "rf_accuracy = evaluator.evaluate(rf_predictions)\n",
    "print(f\"Accuracy = {rf_accuracy}\")\n",
    "print(\"Test Error = %g\" % (1.0 - rf_accuracy))"
   ]
  },
  {
   "cell_type": "markdown",
   "id": "1698c1d0",
   "metadata": {},
   "source": [
    "### Get Confusion Matrix"
   ]
  },
  {
   "cell_type": "code",
   "execution_count": 58,
   "id": "e4c69599",
   "metadata": {},
   "outputs": [],
   "source": [
    "y_pred=lsvc_predictions.select(\"prediction\").collect()\n",
    "y_orig=lsvc_predictions.select(\"label\").collect()"
   ]
  },
  {
   "cell_type": "code",
   "execution_count": 59,
   "id": "2076eeb1",
   "metadata": {},
   "outputs": [
    {
     "name": "stdout",
     "output_type": "stream",
     "text": [
      "Confusion Matrix:\n",
      "[[10 16]\n",
      " [ 7 48]]\n"
     ]
    }
   ],
   "source": [
    "from sklearn.metrics import confusion_matrix, ConfusionMatrixDisplay, recall_score\n",
    "cm = confusion_matrix(y_orig, y_pred)\n",
    "\n",
    "print(\"Confusion Matrix:\")\n",
    "print(cm)"
   ]
  },
  {
   "cell_type": "code",
   "execution_count": 60,
   "id": "d5c00860",
   "metadata": {},
   "outputs": [
    {
     "name": "stdout",
     "output_type": "stream",
     "text": [
      "For Random Forest :\n",
      "\n",
      "The false positive or type I error  rate is 0.12727272727272726\n",
      "The false negative or type II error rate is 0.6153846153846154\n",
      "The true negative or sensitivity    rate is 0.38461538461538464\n",
      "The true positive or recall         rate is 0.8727272727272727\n"
     ]
    }
   ],
   "source": [
    "tn, fp, fn, tp = cm.ravel()\n",
    "\n",
    "false_positive_rate = fp / (fp + tn)\n",
    "false_negative_rate = fn / (tp + fn)\n",
    "true_negative_rate = tn / (tn + fp)\n",
    "recall = recall_score(y_orig, y_pred)\n",
    "\n",
    "print('For Random Forest :\\n')\n",
    "print('The false positive or type I error  rate is {}'.format(false_negative_rate))\n",
    "print('The false negative or type II error rate is {}'.format(false_positive_rate))\n",
    "print('The true negative or sensitivity    rate is {}'.format(true_negative_rate))\n",
    "print('The true positive or recall         rate is {}'.format(recall))"
   ]
  },
  {
   "cell_type": "code",
   "execution_count": 61,
   "id": "466104cd",
   "metadata": {},
   "outputs": [
    {
     "data": {
      "text/plain": [
       "<sklearn.metrics._plot.confusion_matrix.ConfusionMatrixDisplay at 0x7fa174014b50>"
      ]
     },
     "execution_count": 61,
     "metadata": {},
     "output_type": "execute_result"
    },
    {
     "data": {
      "image/png": "[encoded data removed]",
      "text/plain": [
       "<Figure size 640x480 with 2 Axes>"
      ]
     },
     "metadata": {},
     "output_type": "display_data"
    }
   ],
   "source": [
    "disp = ConfusionMatrixDisplay(confusion_matrix=cm)\n",
    "disp.plot()"
   ]
  },
  {
   "cell_type": "markdown",
   "id": "53851540",
   "metadata": {},
   "source": [
    "## Cross-Valitation Model on : Gradient Boosted Tree\n",
    "\n",
    "Gradient-boosted trees (GBTs) are a popular classification and regression method using ensembles of decision trees. GBTs iteratively train decision trees in order to minimize a loss function. The spark.ml implementation supports GBTs for binary classification and for regression, using both continuous and categorical features."
   ]
  },
  {
   "cell_type": "code",
   "execution_count": 62,
   "id": "57a93ff2",
   "metadata": {},
   "outputs": [],
   "source": [
    "from pyspark.ml.classification import GBTClassifier\n",
    "\n",
    "gbt = GBTClassifier(featuresCol='indexedFeatures', labelCol='label')"
   ]
  },
  {
   "cell_type": "code",
   "execution_count": 63,
   "id": "9ecb0496",
   "metadata": {},
   "outputs": [],
   "source": [
    "# Train the model for Random Forest model.  This also runs the indexers.\n",
    "gbt_model = gbt.fit(trainingData)"
   ]
  },
  {
   "cell_type": "code",
   "execution_count": 64,
   "id": "9bd7435e",
   "metadata": {},
   "outputs": [
    {
     "name": "stdout",
     "output_type": "stream",
     "text": [
      "+--------------------+-----+--------------------+--------------------+--------------------+----------+\n",
      "|            features|label|     indexedFeatures|       rawPrediction|         probability|prediction|\n",
      "+--------------------+-----+--------------------+--------------------+--------------------+----------+\n",
      "|(630,[1,331,405,4...|    1|(630,[1,331,405,4...|[-1.5125704685059...|[0.04630292581796...|       1.0|\n",
      "|(630,[3,202,364,3...|    0|(630,[3,202,364,3...|[0.89232949258011...|[0.85627120336067...|       0.0|\n",
      "|(630,[4,217,427,5...|    1|(630,[4,217,427,5...|[-1.5220953053592...|[0.04546894507901...|       1.0|\n",
      "|(630,[5,359,456,5...|    1|(630,[5,359,456,5...|[-1.5125704685059...|[0.04630292581796...|       1.0|\n",
      "|(630,[7,312,432,5...|    1|(630,[7,312,432,5...|[-1.5125704685059...|[0.04630292581796...|       1.0|\n",
      "+--------------------+-----+--------------------+--------------------+--------------------+----------+\n",
      "only showing top 5 rows\n",
      "\n"
     ]
    }
   ],
   "source": [
    "# Make predictions on the Test Data\n",
    "gbt_predictions = gbt_model.transform(testData)\n",
    "# Select example rows to display. \n",
    "gbt_predictions.show(5)"
   ]
  },
  {
   "cell_type": "code",
   "execution_count": 65,
   "id": "311c3d4b",
   "metadata": {},
   "outputs": [
    {
     "name": "stdout",
     "output_type": "stream",
     "text": [
      "Accuracy = 0.7283950617283951\n",
      "Test Error = 0.271605\n"
     ]
    }
   ],
   "source": [
    "from pyspark.ml.evaluation import MulticlassClassificationEvaluator\n",
    "# Select (prediction, true label) and compute test error\n",
    "evaluator = MulticlassClassificationEvaluator(\n",
    "    labelCol=\"label\", predictionCol=\"prediction\", metricName=\"accuracy\")\n",
    "gbt_accuracy = evaluator.evaluate(gbt_predictions)\n",
    "print(f\"Accuracy = {gbt_accuracy}\")\n",
    "print(\"Test Error = %g\" % (1.0 - gbt_accuracy))"
   ]
  },
  {
   "cell_type": "markdown",
   "id": "2d2a7033",
   "metadata": {},
   "source": [
    "### Get Confusion Matrix"
   ]
  },
  {
   "cell_type": "code",
   "execution_count": 66,
   "id": "1f718b9b",
   "metadata": {},
   "outputs": [],
   "source": [
    "y_pred=lsvc_predictions.select(\"prediction\").collect()\n",
    "y_orig=lsvc_predictions.select(\"label\").collect()"
   ]
  },
  {
   "cell_type": "code",
   "execution_count": 67,
   "id": "2aceafac",
   "metadata": {},
   "outputs": [
    {
     "name": "stdout",
     "output_type": "stream",
     "text": [
      "Confusion Matrix:\n",
      "[[10 16]\n",
      " [ 7 48]]\n"
     ]
    }
   ],
   "source": [
    "from sklearn.metrics import confusion_matrix, ConfusionMatrixDisplay, recall_score\n",
    "cm = confusion_matrix(y_orig, y_pred)\n",
    "\n",
    "print(\"Confusion Matrix:\")\n",
    "print(cm)"
   ]
  },
  {
   "cell_type": "code",
   "execution_count": 68,
   "id": "c1e6d136",
   "metadata": {},
   "outputs": [
    {
     "name": "stdout",
     "output_type": "stream",
     "text": [
      "For Random Forest :\n",
      "\n",
      "The false positive or type I error  rate is 0.12727272727272726\n",
      "The false negative or type II error rate is 0.6153846153846154\n",
      "The true negative or sensitivity    rate is 0.38461538461538464\n",
      "The true positive or recall         rate is 0.8727272727272727\n"
     ]
    }
   ],
   "source": [
    "tn, fp, fn, tp = cm.ravel()\n",
    "\n",
    "false_positive_rate = fp / (fp + tn)\n",
    "false_negative_rate = fn / (tp + fn)\n",
    "true_negative_rate = tn / (tn + fp)\n",
    "recall = recall_score(y_orig, y_pred)\n",
    "\n",
    "print('For Random Forest :\\n')\n",
    "print('The false positive or type I error  rate is {}'.format(false_negative_rate))\n",
    "print('The false negative or type II error rate is {}'.format(false_positive_rate))\n",
    "print('The true negative or sensitivity    rate is {}'.format(true_negative_rate))\n",
    "print('The true positive or recall         rate is {}'.format(recall))"
   ]
  },
  {
   "cell_type": "code",
   "execution_count": 69,
   "id": "385b465d",
   "metadata": {},
   "outputs": [
    {
     "data": {
      "text/plain": [
       "<sklearn.metrics._plot.confusion_matrix.ConfusionMatrixDisplay at 0x7fa1741b9cc0>"
      ]
     },
     "execution_count": 69,
     "metadata": {},
     "output_type": "execute_result"
    },
    {
     "data": {
      "image/png": "[encoded data removed]",
      "text/plain": [
       "<Figure size 640x480 with 2 Axes>"
      ]
     },
     "metadata": {},
     "output_type": "display_data"
    }
   ],
   "source": [
    "disp = ConfusionMatrixDisplay(confusion_matrix=cm)\n",
    "disp.plot()"
   ]
  },
  {
   "cell_type": "markdown",
   "id": "94912c12",
   "metadata": {},
   "source": [
    "## Conclusion of Spark ML Classifier"
   ]
  },
  {
   "cell_type": "markdown",
   "id": "e4bd965b",
   "metadata": {},
   "source": [
    "Let's review the accuracy of all the Spark ML Classifers:"
   ]
  },
  {
   "cell_type": "code",
   "execution_count": 70,
   "id": "2750a1f2",
   "metadata": {},
   "outputs": [
    {
     "name": "stdout",
     "output_type": "stream",
     "text": [
      "The accuracy for each of the models are :\n",
      "\n",
      "Naive Bayes Analysis          : 0.691358024691358\n",
      "\n",
      "Logistic Regression           : 0.6666666666666666\n",
      "\n",
      "Linear Support Vector Machine : 0.7160493827160493\n",
      "\n",
      "Random Forest                 : 0.6790123456790124\n",
      "\n",
      "Gradient Boosted Tree         : 0.7283950617283951\n"
     ]
    }
   ],
   "source": [
    "print('The accuracy for each of the models are :')\n",
    "print('\\nNaive Bayes Analysis          :', nb_accuracy)\n",
    "print('\\nLogistic Regression           :', lg_accuracy)\n",
    "print('\\nLinear Support Vector Machine :', lsvc_accuracy)\n",
    "print('\\nRandom Forest                 :', rf_accuracy)\n",
    "print('\\nGradient Boosted Tree         :', gbt_accuracy)\n"
   ]
  },
  {
   "cell_type": "markdown",
   "id": "3278bfa2",
   "metadata": {},
   "source": [
    "Based on all the accuracy rates from the various ML Classifiers, we see that Gradient Boosted Tree is the best option"
   ]
  },
  {
   "cell_type": "markdown",
   "id": "10cc9766",
   "metadata": {},
   "source": [
    "### Final Conclusion: Graident Boosted Tree is the best option"
   ]
  },
  {
   "cell_type": "markdown",
   "id": "d30ee10a",
   "metadata": {},
   "source": [
    "In the future, I plan to do dimension reduction using PCA and SVD to run these again\n",
    "If time permits, I will do that and submit the answer again"
   ]
  },
  {
   "cell_type": "code",
   "execution_count": null,
   "id": "815e3f5c",
   "metadata": {},
   "outputs": [],
   "source": []
  }
 ],
 "metadata": {
  "kernelspec": {
   "display_name": "Python 3 (ipykernel)",
   "language": "python",
   "name": "python3"
  },
  "language_info": {
   "codemirror_mode": {
    "name": "ipython",
    "version": 3
   },
   "file_extension": ".py",
   "mimetype": "text/x-python",
   "name": "python",
   "nbconvert_exporter": "python",
   "pygments_lexer": "ipython3",
   "version": "3.10.11"
  }
 },
 "nbformat": 4,
 "nbformat_minor": 5
}
